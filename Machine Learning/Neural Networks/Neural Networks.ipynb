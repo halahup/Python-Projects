{
 "cells": [
  {
   "cell_type": "markdown",
   "metadata": {},
   "source": [
    "## Logistic Regression"
   ]
  },
  {
   "cell_type": "markdown",
   "metadata": {},
   "source": [
    "$Z = w^T \\cdot X + b$\n",
    "\n",
    "$A = \\sigma(Z)$\n",
    "\n",
    "**Loss function for a single observation:**\n",
    "\n",
    "$L = \\hat{y}^{y}(1-\\hat{y})^{1-y}$\n",
    "\n",
    "$log(L) = y*log(\\hat{y})+(1-y)*log(1-\\hat{y})$\n",
    "\n",
    "**Logistic Regression cost function:**\n",
    "\n",
    "$J(w, b) = -\\frac{1}{m} \\sum_{i=1}^{m}(y_{i}*log(\\hat{y_{i}})+(1-y_{i})*log(1-\\hat{y_{i}}))$"
   ]
  },
  {
   "cell_type": "markdown",
   "metadata": {
    "collapsed": true
   },
   "source": [
    "## Neural Networks"
   ]
  },
  {
   "cell_type": "code",
   "execution_count": 3,
   "metadata": {},
   "outputs": [
    {
     "name": "stdout",
     "output_type": "stream",
     "text": [
      "[[-0.44587644 -0.49530091 -1.93062692]\n",
      " [-1.68901018  0.63626484  1.50759355]\n",
      " [-0.55579423 -0.76611873 -0.04216447]\n",
      " [ 1.00616281 -0.34852588  0.05968195]]\n",
      "[[-2.87180427]\n",
      " [ 0.45484822]\n",
      " [-1.36407743]\n",
      " [ 0.71731888]]\n"
     ]
    }
   ],
   "source": [
    "import numpy as np\n",
    "\n",
    "A = np.random.randn(4, 3)\n",
    "B = np.sum(A, axis=1, keepdims=True)\n",
    "\n",
    "print(A)\n",
    "print(B)"
   ]
  },
  {
   "cell_type": "code",
   "execution_count": null,
   "metadata": {
    "collapsed": true
   },
   "outputs": [],
   "source": []
  },
  {
   "cell_type": "code",
   "execution_count": null,
   "metadata": {
    "collapsed": true
   },
   "outputs": [],
   "source": []
  },
  {
   "cell_type": "code",
   "execution_count": null,
   "metadata": {
    "collapsed": true
   },
   "outputs": [],
   "source": []
  }
 ],
 "metadata": {
  "kernelspec": {
   "display_name": "Python 3",
   "language": "python",
   "name": "python3"
  },
  "language_info": {
   "codemirror_mode": {
    "name": "ipython",
    "version": 3
   },
   "file_extension": ".py",
   "mimetype": "text/x-python",
   "name": "python",
   "nbconvert_exporter": "python",
   "pygments_lexer": "ipython3",
   "version": "3.6.2"
  }
 },
 "nbformat": 4,
 "nbformat_minor": 2
}

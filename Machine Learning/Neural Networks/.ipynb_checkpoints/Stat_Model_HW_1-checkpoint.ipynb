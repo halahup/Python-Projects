{
 "cells": [
  {
   "cell_type": "markdown",
   "metadata": {},
   "source": [
    "** 1. If fish lengths have a distribution with mean 20 and standard deviation of 10, what is the sampling distribution of the sample mean for samples of size 400?**"
   ]
  },
  {
   "cell_type": "markdown",
   "metadata": {},
   "source": [
    "$\\mu = 20$, $\\sigma = 10$, $n = 400$"
   ]
  },
  {
   "cell_type": "markdown",
   "metadata": {},
   "source": [
    "$\\bar{X} \\sim N(\\mu, \\frac{\\sigma}{\\sqrt{n}})$\n",
    "\n",
    "$\\bar{X} \\sim N(20, \\frac{10}{20})$ = $N(20, \\frac{1}{2})$"
   ]
  },
  {
   "cell_type": "markdown",
   "metadata": {},
   "source": [
    "** 2. If the number of people who like Amy’s Icecream out of 200 is Binomial with success probability of .75, what is the sampling distribution of p(hat)**"
   ]
  },
  {
   "cell_type": "markdown",
   "metadata": {},
   "source": [
    "$n = 200$, $p = 0.75$, $\\sigma = \\sqrt{\\frac{p(1-p)}{n}}$"
   ]
  },
  {
   "cell_type": "markdown",
   "metadata": {},
   "source": [
    "$\\hat{p} \\sim N(p, \\sqrt{\\frac{p(1-p)}{n}})$\n",
    "\n",
    "$\\hat{p} \\sim N(0.75, \\sqrt{\\frac{0.75(0.25)}{200}}) = N(0.75, 0.0306)$"
   ]
  },
  {
   "cell_type": "markdown",
   "metadata": {},
   "source": [
    "**3. Find the z-value for which the probability that a normal variable exceeds μ+zσ equals**"
   ]
  },
  {
   "cell_type": "markdown",
   "metadata": {},
   "source": [
    "(a) P = 0.01 -> z = 2.5758293\n",
    "\n",
    "(b) P = 0.025 -> z = 2.24140273\n",
    "\n",
    "(c) P = 0.1 -> z = 1.64485363"
   ]
  },
  {
   "cell_type": "markdown",
   "metadata": {},
   "source": [
    "**4. According to a recent Current Population Reports, self-employed individuals in the US work an average of 75 hours per week, with a standard deviation of 6.  If this variable is approximately normally distributed, number of hours worked per week is the 86th percentile?**"
   ]
  },
  {
   "cell_type": "markdown",
   "metadata": {},
   "source": [
    "$\\mu = 75, \\sigma = 6$"
   ]
  },
  {
   "cell_type": "code",
   "execution_count": 11,
   "metadata": {},
   "outputs": [
    {
     "data": {
      "text/plain": [
       "array([ 1.47579103])"
      ]
     },
     "execution_count": 11,
     "metadata": {},
     "output_type": "execute_result"
    }
   ],
   "source": [
    "stats.norm.ppf([0.86 + 0.07])"
   ]
  },
  {
   "cell_type": "markdown",
   "metadata": {},
   "source": []
  },
  {
   "cell_type": "markdown",
   "metadata": {},
   "source": []
  },
  {
   "cell_type": "markdown",
   "metadata": {},
   "source": []
  },
  {
   "cell_type": "markdown",
   "metadata": {},
   "source": []
  },
  {
   "cell_type": "code",
   "execution_count": 9,
   "metadata": {},
   "outputs": [
    {
     "name": "stdout",
     "output_type": "stream",
     "text": [
      "0.995\n"
     ]
    }
   ],
   "source": [
    "import scipy.stats as stats\n",
    "\n",
    "stats.norm.ppf([1 - 0.01 / 2, 1 - 0.025 / 2, 1 - 0.1 / 2])\n",
    "\n",
    "print( 1 - 0.005)"
   ]
  }
 ],
 "metadata": {
  "kernelspec": {
   "display_name": "Python 3",
   "language": "python",
   "name": "python3"
  },
  "language_info": {
   "codemirror_mode": {
    "name": "ipython",
    "version": 3
   },
   "file_extension": ".py",
   "mimetype": "text/x-python",
   "name": "python",
   "nbconvert_exporter": "python",
   "pygments_lexer": "ipython3",
   "version": "3.6.2"
  }
 },
 "nbformat": 4,
 "nbformat_minor": 2
}

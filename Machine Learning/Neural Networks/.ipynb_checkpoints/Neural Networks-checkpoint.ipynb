{
 "cells": [
  {
   "cell_type": "markdown",
   "metadata": {},
   "source": [
    "## Logistic Regression"
   ]
  },
  {
   "cell_type": "markdown",
   "metadata": {},
   "source": [
    "$Z = w^T \\cdot X + b$\n",
    "\n",
    "$A = \\sigma(Z)$\n",
    "\n",
    "**Loss function for a single observation:**\n",
    "\n",
    "$L = \\hat{y}^{y}(1-\\hat{y})^{1-y}$\n",
    "\n",
    "$log(L) = y*log(\\hat{y})+(1-y)*log(1-\\hat{y})$\n",
    "\n",
    "**Logistic Regression cost function:**\n",
    "\n",
    "$J(w, b) = -\\frac{1}{m} \\sum_{i=1}^{m}(y_{i}*log(\\hat{y_{i}})+(1-y_{i})*log(1-\\hat{y_{i}}))$"
   ]
  },
  {
   "cell_type": "code",
   "execution_count": null,
   "metadata": {
    "collapsed": true
   },
   "outputs": [],
   "source": []
  },
  {
   "cell_type": "code",
   "execution_count": null,
   "metadata": {
    "collapsed": true
   },
   "outputs": [],
   "source": []
  },
  {
   "cell_type": "code",
   "execution_count": null,
   "metadata": {
    "collapsed": true
   },
   "outputs": [],
   "source": []
  },
  {
   "cell_type": "code",
   "execution_count": null,
   "metadata": {
    "collapsed": true
   },
   "outputs": [],
   "source": []
  },
  {
   "cell_type": "code",
   "execution_count": null,
   "metadata": {
    "collapsed": true
   },
   "outputs": [],
   "source": []
  }
 ],
 "metadata": {
  "kernelspec": {
   "display_name": "Python 3",
   "language": "python",
   "name": "python3"
  },
  "language_info": {
   "codemirror_mode": {
    "name": "ipython",
    "version": 3
   },
   "file_extension": ".py",
   "mimetype": "text/x-python",
   "name": "python",
   "nbconvert_exporter": "python",
   "pygments_lexer": "ipython3",
   "version": "3.6.2"
  }
 },
 "nbformat": 4,
 "nbformat_minor": 2
}

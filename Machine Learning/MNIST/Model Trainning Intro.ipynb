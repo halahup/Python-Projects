{
 "cells": [
  {
   "cell_type": "markdown",
   "metadata": {},
   "source": [
    "## Linear Regression Model"
   ]
  },
  {
   "cell_type": "markdown",
   "metadata": {},
   "source": [
    "### Generate the data for the model"
   ]
  },
  {
   "cell_type": "code",
   "execution_count": 169,
   "metadata": {},
   "outputs": [
    {
     "data": {
      "text/html": [
       "<iframe id=\"igraph\" scrolling=\"no\" style=\"border:none;\" seamless=\"seamless\" src=\"https://plot.ly/~halahup/81.embed\" height=\"525px\" width=\"100%\"></iframe>"
      ],
      "text/plain": [
       "<plotly.tools.PlotlyDisplay object>"
      ]
     },
     "execution_count": 169,
     "metadata": {},
     "output_type": "execute_result"
    }
   ],
   "source": [
    "import numpy as np\n",
    "import plotly.plotly as plotly\n",
    "import plotly.graph_objs as graph_objs\n",
    "\n",
    "# generate the data set\n",
    "X = 2 * np.random.rand(100, 1)\n",
    "y = 4 + 3 * X + np.random.randn(100, 1)\n",
    "\n",
    "# plot the dataset\n",
    "trace = graph_objs.Scatter(x = X, y = y, mode = 'markers')\n",
    "data = [trace]\n",
    "layout = graph_objs.Layout(\n",
    "    title='Linear Model',\n",
    "    xaxis=dict(\n",
    "        title='X',\n",
    "        titlefont=dict(\n",
    "            family='Courier New, monospace',\n",
    "            size=18,\n",
    "            color='#7f7f7f'\n",
    "        )\n",
    "    ),\n",
    "    yaxis=dict(\n",
    "        title='y',\n",
    "        titlefont=dict(\n",
    "            family='Courier New, monospace',\n",
    "            size=18,\n",
    "            color='#7f7f7f'\n",
    "        )\n",
    "    )\n",
    ")\n",
    "fig = graph_objs.Figure(data = data, layout = layout)\n",
    "plotly.iplot(fig)"
   ]
  },
  {
   "cell_type": "markdown",
   "metadata": {},
   "source": [
    "### Normal Equation minimization"
   ]
  },
  {
   "cell_type": "markdown",
   "metadata": {},
   "source": [
    "Normal equation is given by:\n",
    "$$\\hat{\\Theta} = (\\textbf{X}^{T} \\cdot \\textbf{X})^{-1} \\cdot \\textbf{X}^{T} \\cdot \\textbf{y}$$\n",
    "\n",
    "where: \n",
    "* **X** is the matrix of features for every corresponding observation\n",
    "\n",
    "* **y** is the vector of target values\n",
    "\n",
    "* $\\hat{\\Theta}$ is the vector of the minimized parameters for the model"
   ]
  },
  {
   "cell_type": "code",
   "execution_count": 170,
   "metadata": {},
   "outputs": [],
   "source": [
    "# append ones to the vector of X for the bias unit\n",
    "X_b = np.c_[np.ones((100,1)), X]\n",
    "\n",
    "# use normal equation to minimize the parameters\n",
    "theta_best = np.linalg.inv(X_b.T.dot(X_b)).dot(X_b.T).dot(y)"
   ]
  },
  {
   "cell_type": "markdown",
   "metadata": {},
   "source": [
    "Note that the actual $\\Theta_0$ and $\\Theta_1$ are defined as 4 and 3 respectively as we defined in our model, although noise is going to affect our parameter calculations."
   ]
  },
  {
   "cell_type": "code",
   "execution_count": 171,
   "metadata": {},
   "outputs": [
    {
     "data": {
      "text/plain": [
       "array([[ 3.82181384],\n",
       "       [ 3.05455978]])"
      ]
     },
     "execution_count": 171,
     "metadata": {},
     "output_type": "execute_result"
    }
   ],
   "source": [
    "# our minimized estimated parameters\n",
    "theta_best"
   ]
  },
  {
   "cell_type": "code",
   "execution_count": 176,
   "metadata": {},
   "outputs": [
    {
     "name": "stdout",
     "output_type": "stream",
     "text": [
      "[[ 3.82181384]\n",
      " [ 9.9309334 ]]\n"
     ]
    }
   ],
   "source": [
    "# get the linear regression line\n",
    "X_new = np.array([0, 2])  # choose 2 points\n",
    "X_new_b = np.c_[np.ones((2,1)), X_new]  # add a column of 1's fir the bias unit\n",
    "y_predict = X_new_b.dot(theta_best)  # get the predictions h(X)\n",
    "print(y_predict)"
   ]
  },
  {
   "cell_type": "code",
   "execution_count": 175,
   "metadata": {},
   "outputs": [
    {
     "data": {
      "text/html": [
       "<iframe id=\"igraph\" scrolling=\"no\" style=\"border:none;\" seamless=\"seamless\" src=\"https://plot.ly/~halahup/85.embed\" height=\"525px\" width=\"100%\"></iframe>"
      ],
      "text/plain": [
       "<plotly.tools.PlotlyDisplay object>"
      ]
     },
     "execution_count": 175,
     "metadata": {},
     "output_type": "execute_result"
    }
   ],
   "source": [
    "# plot the linear regression line\n",
    "trace_1 = graph_objs.Scatter(x = X, y = y, mode = 'markers', name = 'observations')\n",
    "trace_2 = graph_objs.Scatter(x = X_new, y = y_predict, mode = 'lines', name = 'linear regression line')\n",
    "data = [trace_1, trace_2]\n",
    "layout = graph_objs.Layout(\n",
    "    title='Linear Model',\n",
    "    xaxis=dict(\n",
    "        title='X',\n",
    "        titlefont=dict(\n",
    "            family='Courier New, monospace',\n",
    "            size=18,\n",
    "            color='#7f7f7f'\n",
    "        )\n",
    "    ),\n",
    "    yaxis=dict(\n",
    "        title='y',\n",
    "        titlefont=dict(\n",
    "            family='Courier New, monospace',\n",
    "            size=18,\n",
    "            color='#7f7f7f'\n",
    "        )\n",
    "    )\n",
    ")\n",
    "fig = graph_objs.Figure(data = data, layout = layout)\n",
    "plotly.iplot(fig)"
   ]
  },
  {
   "cell_type": "code",
   "execution_count": 187,
   "metadata": {},
   "outputs": [
    {
     "name": "stdout",
     "output_type": "stream",
     "text": [
      "[ 3.82181384] [[ 3.05455978]]\n"
     ]
    }
   ],
   "source": [
    "# sklearn alternative\n",
    "from sklearn.linear_model import LinearRegression\n",
    "\n",
    "# define the model\n",
    "linear_regression_model = LinearRegression()\n",
    "\n",
    "# fit the model\n",
    "l = linear_regression_model.fit(X, y)\n",
    "print(l.intercept_, l.coef_)"
   ]
  },
  {
   "cell_type": "markdown",
   "metadata": {},
   "source": [
    "### Gradient Descent Minimization"
   ]
  },
  {
   "cell_type": "code",
   "execution_count": 198,
   "metadata": {},
   "outputs": [
    {
     "name": "stdout",
     "output_type": "stream",
     "text": [
      "[ 3.78369464] [ 3.01373211]\n"
     ]
    }
   ],
   "source": [
    "# stochastic gradient descent\n",
    "from sklearn.linear_model import SGDRegressor\n",
    "sgd_reg = SGDRegressor(n_iter = 50, penalty = None, eta0 = 0.1)\n",
    "sr = sgd_reg.fit(X, y.ravel())\n",
    "print(sr.intercept_, sr.coef_)"
   ]
  },
  {
   "cell_type": "markdown",
   "metadata": {},
   "source": [
    "## Polynomial Regression Model"
   ]
  },
  {
   "cell_type": "markdown",
   "metadata": {},
   "source": [
    "### Generate data for the model"
   ]
  },
  {
   "cell_type": "code",
   "execution_count": 202,
   "metadata": {},
   "outputs": [
    {
     "data": {
      "text/html": [
       "<iframe id=\"igraph\" scrolling=\"no\" style=\"border:none;\" seamless=\"seamless\" src=\"https://plot.ly/~halahup/93.embed\" height=\"525px\" width=\"100%\"></iframe>"
      ],
      "text/plain": [
       "<plotly.tools.PlotlyDisplay object>"
      ]
     },
     "execution_count": 202,
     "metadata": {},
     "output_type": "execute_result"
    }
   ],
   "source": [
    "m = 100\n",
    "X = 6 * np.random.rand(m, 1) - 3\n",
    "y = 0.5 * X**2 + X + 2 + np.random.randn(m, 1)\n",
    "\n",
    "trace = graph_objs.Scatter(x = X, y = y, mode = 'markers')\n",
    "data = [trace]\n",
    "layout = graph_objs.Layout(\n",
    "    title='Polynomial Model',\n",
    "    xaxis=dict(\n",
    "        title='X',\n",
    "        titlefont=dict(\n",
    "            family='Courier New, monospace',\n",
    "            size=18,\n",
    "            color='#7f7f7f'\n",
    "        )\n",
    "    ),\n",
    "    yaxis=dict(\n",
    "        title='y',\n",
    "        titlefont=dict(\n",
    "            family='Courier New, monospace',\n",
    "            size=18,\n",
    "            color='#7f7f7f'\n",
    "        )\n",
    "    )\n",
    ")\n",
    "fig = graph_objs.Figure(data = data, layout = layout)\n",
    "plotly.iplot(fig)"
   ]
  },
  {
   "cell_type": "markdown",
   "metadata": {},
   "source": [
    "### Add the polynomial (2nd-degree) features"
   ]
  },
  {
   "cell_type": "code",
   "execution_count": 208,
   "metadata": {},
   "outputs": [
    {
     "name": "stdout",
     "output_type": "stream",
     "text": [
      "Original feature: [-1.82367467]\n",
      "Polynomial feature added: [-1.82367467  3.3257893 ]\n"
     ]
    }
   ],
   "source": [
    "from sklearn.preprocessing import PolynomialFeatures\n",
    "poly_features = PolynomialFeatures(degree = 2, include_bias = False)\n",
    "X_poly = poly_features.fit_transform(X)\n",
    "print(\"Original feature: {}\".format(X[0]))\n",
    "print(\"Polynomial feature added: {}\".format(X_poly[0]))"
   ]
  },
  {
   "cell_type": "markdown",
   "metadata": {},
   "source": [
    "### Fit Linear Regression"
   ]
  },
  {
   "cell_type": "code",
   "execution_count": 209,
   "metadata": {},
   "outputs": [
    {
     "name": "stdout",
     "output_type": "stream",
     "text": [
      "[ 2.00128005] [[ 0.8979747   0.51545163]]\n"
     ]
    }
   ],
   "source": [
    "from sklearn.linear_model import LinearRegression\n",
    "linear_model = LinearRegression()\n",
    "lm = linear_model.fit(X_poly, y)\n",
    "print(lm.intercept_, lm.coef_)"
   ]
  },
  {
   "cell_type": "code",
   "execution_count": 234,
   "metadata": {},
   "outputs": [
    {
     "data": {
      "text/html": [
       "<iframe id=\"igraph\" scrolling=\"no\" style=\"border:none;\" seamless=\"seamless\" src=\"https://plot.ly/~halahup/105.embed\" height=\"525px\" width=\"100%\"></iframe>"
      ],
      "text/plain": [
       "<plotly.tools.PlotlyDisplay object>"
      ]
     },
     "execution_count": 234,
     "metadata": {},
     "output_type": "execute_result"
    }
   ],
   "source": [
    "# plot the resulting regression\n",
    "trace_1 = graph_objs.Scatter(x = X, y = y, mode = 'markers')\n",
    "trace_2 = graph_objs.Scatter(x = X, \n",
    "                             y = lm.coef_[0][0] * X + lm.coef_[0][1] * X**2 + lm.intercept_, \n",
    "                             mode = 'markers')\n",
    "data = [trace_1, trace_2]\n",
    "layout = graph_objs.Layout(\n",
    "    title='Polynomial Model',\n",
    "    xaxis=dict(\n",
    "        title='X',\n",
    "        titlefont=dict(\n",
    "            family='Courier New, monospace',\n",
    "            size=18,\n",
    "            color='#7f7f7f'\n",
    "        )\n",
    "    ),\n",
    "    yaxis=dict(\n",
    "        title='y',\n",
    "        titlefont=dict(\n",
    "            family='Courier New, monospace',\n",
    "            size=18,\n",
    "            color='#7f7f7f'\n",
    "        )\n",
    "    )\n",
    ")\n",
    "fig = graph_objs.Figure(data = data, layout = layout)\n",
    "plotly.iplot(fig)"
   ]
  },
  {
   "cell_type": "markdown",
   "metadata": {},
   "source": [
    "## Ridge Regression Model"
   ]
  },
  {
   "cell_type": "markdown",
   "metadata": {},
   "source": [
    "**Ridge Regression Model** is Linear Regression Model where the features' weights are constrained using the regularization term: $\\alpha \\Sigma^{n}_{i=1}\\Theta_{i}^{2}$"
   ]
  },
  {
   "cell_type": "markdown",
   "metadata": {},
   "source": [
    "### Normal Equation"
   ]
  },
  {
   "cell_type": "code",
   "execution_count": 236,
   "metadata": {},
   "outputs": [
    {
     "name": "stdout",
     "output_type": "stream",
     "text": [
      "[ 3.60274349] [[ 0.9714163]]\n"
     ]
    }
   ],
   "source": [
    "from sklearn.linear_model import Ridge\n",
    "ridge_reg = Ridge(alpha = 1, solver = 'cholesky')\n",
    "ridge_reg.fit(X, y)\n",
    "print(ridge_reg.intercept_, ridge_reg.coef_)"
   ]
  },
  {
   "cell_type": "markdown",
   "metadata": {},
   "source": [
    "### Stochastic Gradient Descent"
   ]
  },
  {
   "cell_type": "code",
   "execution_count": 237,
   "metadata": {},
   "outputs": [
    {
     "name": "stdout",
     "output_type": "stream",
     "text": [
      "[ 2.73229359] [ 1.02553078]\n"
     ]
    }
   ],
   "source": [
    "from sklearn.linear_model import SGDRegressor\n",
    "sgd_reg = SGDRegressor(penalty = 'l2')\n",
    "sgd_reg.fit(X, y.ravel())\n",
    "print(sgd_reg.intercept_, sgd_reg.coef_)"
   ]
  },
  {
   "cell_type": "code",
   "execution_count": null,
   "metadata": {
    "collapsed": true
   },
   "outputs": [],
   "source": []
  }
 ],
 "metadata": {
  "kernelspec": {
   "display_name": "Python 3",
   "language": "python",
   "name": "python3"
  },
  "language_info": {
   "codemirror_mode": {
    "name": "ipython",
    "version": 3
   },
   "file_extension": ".py",
   "mimetype": "text/x-python",
   "name": "python",
   "nbconvert_exporter": "python",
   "pygments_lexer": "ipython3",
   "version": "3.6.2"
  }
 },
 "nbformat": 4,
 "nbformat_minor": 2
}

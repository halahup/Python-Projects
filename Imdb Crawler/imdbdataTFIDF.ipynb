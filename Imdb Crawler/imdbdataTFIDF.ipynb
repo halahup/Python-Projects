{
 "cells": [
  {
   "cell_type": "markdown",
   "metadata": {
    "collapsed": true
   },
   "source": [
    "# TF-IDF modeling with limited resources"
   ]
  },
  {
   "cell_type": "code",
   "execution_count": null,
   "metadata": {
    "collapsed": true
   },
   "outputs": [],
   "source": [
    "import graphlab"
   ]
  },
  {
   "cell_type": "markdown",
   "metadata": {},
   "source": [
    "### Loading the data from the IMDB crawer"
   ]
  },
  {
   "cell_type": "code",
   "execution_count": 90,
   "metadata": {
    "collapsed": true
   },
   "outputs": [],
   "source": [
    "# load the data from the Imdb Data gathered by the crawler\n",
    "imdb_frame = graphlab.SFrame('Imdb Data')"
   ]
  },
  {
   "cell_type": "markdown",
   "metadata": {},
   "source": [
    "We see that there are 9700 entries in the data set, let's print few first ones"
   ]
  },
  {
   "cell_type": "code",
   "execution_count": 91,
   "metadata": {
    "collapsed": false
   },
   "outputs": [
    {
     "data": {
      "text/plain": [
       "9700"
      ]
     },
     "execution_count": 91,
     "metadata": {},
     "output_type": "execute_result"
    }
   ],
   "source": [
    "len(imdb_frame)"
   ]
  },
  {
   "cell_type": "code",
   "execution_count": 92,
   "metadata": {
    "collapsed": false
   },
   "outputs": [
    {
     "name": "stdout",
     "output_type": "stream",
     "text": [
      "+-------------------------------+---------------------------+\n",
      "|          description          |          director         |\n",
      "+-------------------------------+---------------------------+\n",
      "| The lives of two mob hit m... |     Quentin Tarantino     |\n",
      "| When New York is put under... |         Marc Webb         |\n",
      "| Two imprisoned men bond ov... |       Frank Darabont      |\n",
      "| Luke Skywalker joins force... |        George Lucas       |\n",
      "| Marty McFly, a 17-year-old... |      Robert Zemeckis      |\n",
      "| Five high school students,... |        John Hughes        |\n",
      "| In order to save their hom... |       Richard Donner      |\n",
      "| A young F.B.I. cadet must ... |       Jonathan Demme      |\n",
      "| During a preview tour, a t... |      Steven Spielberg     |\n",
      "| Lion cub and future king S... | Roger Allers, Rob Minkoff |\n",
      "+-------------------------------+---------------------------+\n",
      "+-------------------------------+--------+-------------------------------+\n",
      "|             stars             |  year  |              name             |\n",
      "+-------------------------------+--------+-------------------------------+\n",
      "| John Travolta, Uma Thurman... | (1994) |          Pulp Fiction         |\n",
      "| Andrew Garfield, Emma Ston... | (2014) |    The Amazing Spider-Man 2   |\n",
      "| Tim Robbins, Morgan Freema... | (1994) |    The Shawshank Redemption   |\n",
      "| Mark Hamill, Harrison Ford... | (1977) | Star Wars: Episode IV - A ... |\n",
      "| Michael J. Fox, Christophe... | (1985) |       Back to the Future      |\n",
      "| Emilio Estevez, Judd Nelso... | (1985) |       The Breakfast Club      |\n",
      "| Sean Astin, Josh Brolin, J... | (1985) |          The Goonies          |\n",
      "| Jodie Foster, Anthony Hopk... | (1991) |    The Silence of the Lambs   |\n",
      "| Sam Neill, Laura Dern, Jef... | (1993) |         Jurassic Park         |\n",
      "| Matthew Broderick, Jeremy ... | (1994) |         The Lion King         |\n",
      "+-------------------------------+--------+-------------------------------+\n",
      "[10 rows x 5 columns]\n",
      "\n"
     ]
    }
   ],
   "source": [
    "print(imdb_frame.head())"
   ]
  },
  {
   "cell_type": "markdown",
   "metadata": {
    "collapsed": true
   },
   "source": [
    "Now we can add another column to the frame with the count the words that appear in the description of the entry"
   ]
  },
  {
   "cell_type": "code",
   "execution_count": 93,
   "metadata": {
    "collapsed": false
   },
   "outputs": [],
   "source": [
    "imdb_frame['word_count'] = graphlab.text_analytics.count_words(imdb_frame['description'])"
   ]
  },
  {
   "cell_type": "code",
   "execution_count": 94,
   "metadata": {
    "collapsed": false
   },
   "outputs": [
    {
     "name": "stdout",
     "output_type": "stream",
     "text": [
      "+-------------------------------+---------------------------+\n",
      "|          description          |          director         |\n",
      "+-------------------------------+---------------------------+\n",
      "| The lives of two mob hit m... |     Quentin Tarantino     |\n",
      "| When New York is put under... |         Marc Webb         |\n",
      "| Two imprisoned men bond ov... |       Frank Darabont      |\n",
      "| Luke Skywalker joins force... |        George Lucas       |\n",
      "| Marty McFly, a 17-year-old... |      Robert Zemeckis      |\n",
      "| Five high school students,... |        John Hughes        |\n",
      "| In order to save their hom... |       Richard Donner      |\n",
      "| A young F.B.I. cadet must ... |       Jonathan Demme      |\n",
      "| During a preview tour, a t... |      Steven Spielberg     |\n",
      "| Lion cub and future king S... | Roger Allers, Rob Minkoff |\n",
      "+-------------------------------+---------------------------+\n",
      "+-------------------------------+--------+-------------------------------+\n",
      "|             stars             |  year  |              name             |\n",
      "+-------------------------------+--------+-------------------------------+\n",
      "| John Travolta, Uma Thurman... | (1994) |          Pulp Fiction         |\n",
      "| Andrew Garfield, Emma Ston... | (2014) |    The Amazing Spider-Man 2   |\n",
      "| Tim Robbins, Morgan Freema... | (1994) |    The Shawshank Redemption   |\n",
      "| Mark Hamill, Harrison Ford... | (1977) | Star Wars: Episode IV - A ... |\n",
      "| Michael J. Fox, Christophe... | (1985) |       Back to the Future      |\n",
      "| Emilio Estevez, Judd Nelso... | (1985) |       The Breakfast Club      |\n",
      "| Sean Astin, Josh Brolin, J... | (1985) |          The Goonies          |\n",
      "| Jodie Foster, Anthony Hopk... | (1991) |    The Silence of the Lambs   |\n",
      "| Sam Neill, Laura Dern, Jef... | (1993) |         Jurassic Park         |\n",
      "| Matthew Broderick, Jeremy ... | (1994) |         The Lion King         |\n",
      "+-------------------------------+--------+-------------------------------+\n",
      "+-------------------------------+\n",
      "|           word_count          |\n",
      "+-------------------------------+\n",
      "| {'and': 2, 'four': 1, 'int... |\n",
      "| {'is': 2, 'it': 1, 'as': 2... |\n",
      "| {'and': 1, 'a': 1, 'men': ... |\n",
      "| {'and': 1, 'world-destroyi... |\n",
      "| {'friend,': 1, 'into': 1, ... |\n",
      "| {'and': 1, 'all': 1, 'thou... |\n",
      "| {'a': 2, 'ancient': 1, 'fr... |\n",
      "| {'and': 1, 'cadet': 1, 'he... |\n",
      "| {'a': 3, 'breakdown': 1, '... |\n",
      "| {'and': 2, 'eagerness': 1,... |\n",
      "+-------------------------------+\n",
      "[10 rows x 6 columns]\n",
      "\n"
     ]
    }
   ],
   "source": [
    "print(imdb_frame.head())"
   ]
  },
  {
   "cell_type": "markdown",
   "metadata": {},
   "source": [
    "Let's grab the Pulp Fiction and check out what are the word counts in the description"
   ]
  },
  {
   "cell_type": "code",
   "execution_count": 95,
   "metadata": {
    "collapsed": true
   },
   "outputs": [],
   "source": [
    "pulp_fiction = imdb_frame[imdb_frame['name'] == 'Pulp Fiction']"
   ]
  },
  {
   "cell_type": "code",
   "execution_count": 99,
   "metadata": {
    "collapsed": false
   },
   "outputs": [
    {
     "name": "stdout",
     "output_type": "stream",
     "text": [
      "+-------------+-------+\n",
      "|     word    | count |\n",
      "+-------------+-------+\n",
      "|      a      |   3   |\n",
      "|      of     |   3   |\n",
      "|     and     |   2   |\n",
      "| redemption. |   1   |\n",
      "|     pair    |   1   |\n",
      "|    diner    |   1   |\n",
      "|    wife,    |   1   |\n",
      "|     four    |   1   |\n",
      "|     hit     |   1   |\n",
      "|   bandits   |   1   |\n",
      "+-------------+-------+\n",
      "[23 rows x 2 columns]\n",
      "Note: Only the head of the SFrame is printed.\n",
      "You can use print_rows(num_rows=m, num_columns=n) to print more rows and columns.\n"
     ]
    }
   ],
   "source": [
    "print(pulp_fiction[['word_count']].\n",
    "      stack('word_count', new_column_name=['word', 'count']).sort('count', ascending=False))"
   ]
  },
  {
   "cell_type": "markdown",
   "metadata": {},
   "source": [
    "We see 'a', 'of', 'and' are the most repeated words in that short description.\n",
    "Now let's calculate the **term frequency-inverse document frequency** statistic:"
   ]
  },
  {
   "cell_type": "code",
   "execution_count": 101,
   "metadata": {
    "collapsed": true
   },
   "outputs": [],
   "source": [
    "imdb_frame['tf_idf'] = graphlab.text_analytics.tf_idf(imdb_frame['word_count'])"
   ]
  },
  {
   "cell_type": "code",
   "execution_count": 102,
   "metadata": {
    "collapsed": false
   },
   "outputs": [
    {
     "name": "stdout",
     "output_type": "stream",
     "text": [
      "+-------------------------------+---------------------------+\n",
      "|          description          |          director         |\n",
      "+-------------------------------+---------------------------+\n",
      "| The lives of two mob hit m... |     Quentin Tarantino     |\n",
      "| When New York is put under... |         Marc Webb         |\n",
      "| Two imprisoned men bond ov... |       Frank Darabont      |\n",
      "| Luke Skywalker joins force... |        George Lucas       |\n",
      "| Marty McFly, a 17-year-old... |      Robert Zemeckis      |\n",
      "| Five high school students,... |        John Hughes        |\n",
      "| In order to save their hom... |       Richard Donner      |\n",
      "| A young F.B.I. cadet must ... |       Jonathan Demme      |\n",
      "| During a preview tour, a t... |      Steven Spielberg     |\n",
      "| Lion cub and future king S... | Roger Allers, Rob Minkoff |\n",
      "+-------------------------------+---------------------------+\n",
      "+-------------------------------+--------+-------------------------------+\n",
      "|             stars             |  year  |              name             |\n",
      "+-------------------------------+--------+-------------------------------+\n",
      "| John Travolta, Uma Thurman... | (1994) |          Pulp Fiction         |\n",
      "| Andrew Garfield, Emma Ston... | (2014) |    The Amazing Spider-Man 2   |\n",
      "| Tim Robbins, Morgan Freema... | (1994) |    The Shawshank Redemption   |\n",
      "| Mark Hamill, Harrison Ford... | (1977) | Star Wars: Episode IV - A ... |\n",
      "| Michael J. Fox, Christophe... | (1985) |       Back to the Future      |\n",
      "| Emilio Estevez, Judd Nelso... | (1985) |       The Breakfast Club      |\n",
      "| Sean Astin, Josh Brolin, J... | (1985) |          The Goonies          |\n",
      "| Jodie Foster, Anthony Hopk... | (1991) |    The Silence of the Lambs   |\n",
      "| Sam Neill, Laura Dern, Jef... | (1993) |         Jurassic Park         |\n",
      "| Matthew Broderick, Jeremy ... | (1994) |         The Lion King         |\n",
      "+-------------------------------+--------+-------------------------------+\n",
      "+-------------------------------+-------------------------------+\n",
      "|           word_count          |             tf_idf            |\n",
      "+-------------------------------+-------------------------------+\n",
      "| {'and': 2, 'four': 1, 'int... | {'and': 1.517516883651941,... |\n",
      "| {'is': 2, 'it': 1, 'as': 2... | {'is': 2.664237254035732, ... |\n",
      "| {'and': 1, 'a': 1, 'men': ... | {'and': 0.7587584418259705... |\n",
      "| {'and': 1, 'world-destroyi... | {'and': 0.7587584418259705... |\n",
      "| {'friend,': 1, 'into': 1, ... | {'friend,': 5.624533103002... |\n",
      "| {'and': 1, 'all': 1, 'thou... | {'and': 0.7587584418259705... |\n",
      "| {'a': 2, 'ancient': 1, 'fr... | {'a': 0.5267501689045411, ... |\n",
      "| {'and': 1, 'cadet': 1, 'he... | {'and': 0.7587584418259705... |\n",
      "| {'a': 3, 'breakdown': 1, '... | {'a': 0.7901252533568116, ... |\n",
      "| {'and': 2, 'eagerness': 1,... | {'and': 1.517516883651941,... |\n",
      "+-------------------------------+-------------------------------+\n",
      "[10 rows x 7 columns]\n",
      "\n"
     ]
    }
   ],
   "source": [
    "print(imdb_frame.head())"
   ]
  },
  {
   "cell_type": "markdown",
   "metadata": {},
   "source": [
    "### Comparint the word count to weights of tf-idf statistic"
   ]
  },
  {
   "cell_type": "markdown",
   "metadata": {},
   "source": [
    "Since we have calculated the tf-idf statistic for the data set, we can now compare the 2 columns and see that tf-idf statistic actually assignes weights very reasonably:"
   ]
  },
  {
   "cell_type": "code",
   "execution_count": 104,
   "metadata": {
    "collapsed": true
   },
   "outputs": [],
   "source": [
    "pulp_fiction = imdb_frame[imdb_frame['name'] == \"Pulp Fiction\"]"
   ]
  },
  {
   "cell_type": "code",
   "execution_count": 146,
   "metadata": {
    "collapsed": false
   },
   "outputs": [
    {
     "name": "stdout",
     "output_type": "stream",
     "text": [
      "+-------------+-----------------+\n",
      "|    tf_idf   |      count      |\n",
      "+-------------+-----------------+\n",
      "|  gangster's |  8.48673398393  |\n",
      "|   bandits   |  8.08126887582  |\n",
      "| redemption. |  8.08126887582  |\n",
      "|    boxer,   |  8.08126887582  |\n",
      "|    diner    |  7.79358680337  |\n",
      "|  intertwine |  7.79358680337  |\n",
      "|     (154    |  6.78198589169  |\n",
      "|     men,    |   6.6949745147  |\n",
      "|    tales    |   6.2895094066  |\n",
      "|   violence  |  6.18414889094  |\n",
      "|    wife,    |  5.71414526169  |\n",
      "|     mob     |  5.37321867472  |\n",
      "|     pair    |  5.17254797926  |\n",
      "|     hit     |  5.17254797926  |\n",
      "|     four    |  4.18266889073  |\n",
      "|    lives    |  3.84716237123  |\n",
      "|     two     |  2.64900353677  |\n",
      "|      of     |  1.96713707802  |\n",
      "|     and     |  1.51751688365  |\n",
      "|      in     |  0.924572352706 |\n",
      "|      a      |  0.790125253357 |\n",
      "|     the     |  0.420840436967 |\n",
      "|    mins.)   | 0.0275937239639 |\n",
      "+-------------+-----------------+\n",
      "[23 rows x 2 columns]\n",
      "\n"
     ]
    }
   ],
   "source": [
    "pulp_fiction[['tf_idf']].stack('tf_idf', new_column_name=['tf_idf', 'count']).\\\n",
    "            sort('count', ascending=False).print_rows(num_rows=23)"
   ]
  },
  {
   "cell_type": "markdown",
   "metadata": {},
   "source": [
    "Note that now the more important words in the description are 'gangster', 'bandits', 'redemption'. Also the common words are weighted less, because they are common in the corpus."
   ]
  },
  {
   "cell_type": "markdown",
   "metadata": {},
   "source": [
    "### Building the Nearest Neighbor Model\n",
    "Now we can build the nearest neighbor model and see if such short descriptions is enough to retrieve similar to the desired title movies"
   ]
  },
  {
   "cell_type": "code",
   "execution_count": 107,
   "metadata": {
    "collapsed": false
   },
   "outputs": [
    {
     "data": {
      "text/html": [
       "<pre>Starting brute force nearest neighbors model training.</pre>"
      ],
      "text/plain": [
       "Starting brute force nearest neighbors model training."
      ]
     },
     "metadata": {},
     "output_type": "display_data"
    }
   ],
   "source": [
    "# defining the model\n",
    "tf_idf_model = graphlab.nearest_neighbors.create(imdb_frame, features=['tf_idf'], label='name')"
   ]
  },
  {
   "cell_type": "markdown",
   "metadata": {},
   "source": [
    "Let's look what is the closest neighbor to Pulp Fiction and what are the tf-idf weights in those movies:"
   ]
  },
  {
   "cell_type": "code",
   "execution_count": 109,
   "metadata": {
    "collapsed": false
   },
   "outputs": [
    {
     "data": {
      "text/html": [
       "<pre>Starting pairwise querying.</pre>"
      ],
      "text/plain": [
       "Starting pairwise querying."
      ]
     },
     "metadata": {},
     "output_type": "display_data"
    },
    {
     "data": {
      "text/html": [
       "<pre>+--------------+---------+-------------+--------------+</pre>"
      ],
      "text/plain": [
       "+--------------+---------+-------------+--------------+"
      ]
     },
     "metadata": {},
     "output_type": "display_data"
    },
    {
     "data": {
      "text/html": [
       "<pre>| Query points | # Pairs | % Complete. | Elapsed Time |</pre>"
      ],
      "text/plain": [
       "| Query points | # Pairs | % Complete. | Elapsed Time |"
      ]
     },
     "metadata": {},
     "output_type": "display_data"
    },
    {
     "data": {
      "text/html": [
       "<pre>+--------------+---------+-------------+--------------+</pre>"
      ],
      "text/plain": [
       "+--------------+---------+-------------+--------------+"
      ]
     },
     "metadata": {},
     "output_type": "display_data"
    },
    {
     "data": {
      "text/html": [
       "<pre>| 0            | 1       | 0.0103093   | 5.197ms      |</pre>"
      ],
      "text/plain": [
       "| 0            | 1       | 0.0103093   | 5.197ms      |"
      ]
     },
     "metadata": {},
     "output_type": "display_data"
    },
    {
     "data": {
      "text/html": [
       "<pre>| Done         |         | 100         | 34.241ms     |</pre>"
      ],
      "text/plain": [
       "| Done         |         | 100         | 34.241ms     |"
      ]
     },
     "metadata": {},
     "output_type": "display_data"
    },
    {
     "data": {
      "text/html": [
       "<pre>+--------------+---------+-------------+--------------+</pre>"
      ],
      "text/plain": [
       "+--------------+---------+-------------+--------------+"
      ]
     },
     "metadata": {},
     "output_type": "display_data"
    },
    {
     "name": "stdout",
     "output_type": "stream",
     "text": [
      "+-------------+-----------------+----------------+------+\n",
      "| query_label | reference_label |    distance    | rank |\n",
      "+-------------+-----------------+----------------+------+\n",
      "|      0      |   Pulp Fiction  |      0.0       |  1   |\n",
      "|      0      |    Ill Manors   | 0.758620689655 |  2   |\n",
      "|      0      |   Another Year  | 0.771428571429 |  3   |\n",
      "|      0      |  Boiling Point  | 0.777777777778 |  4   |\n",
      "|      0      |  New Year's Eve | 0.787878787879 |  5   |\n",
      "+-------------+-----------------+----------------+------+\n",
      "[5 rows x 4 columns]\n",
      "\n"
     ]
    }
   ],
   "source": [
    "print(tf_idf_model.query(pulp_fiction))"
   ]
  },
  {
   "cell_type": "markdown",
   "metadata": {},
   "source": [
    "We see that the **distances** are pretty big, but let's see what the closest movies are:"
   ]
  },
  {
   "cell_type": "code",
   "execution_count": 110,
   "metadata": {
    "collapsed": true
   },
   "outputs": [],
   "source": [
    "ill_manors = imdb_frame[imdb_frame['name'] == \"Ill Manors\"]"
   ]
  },
  {
   "cell_type": "code",
   "execution_count": 113,
   "metadata": {
    "collapsed": false
   },
   "outputs": [
    {
     "name": "stdout",
     "output_type": "stream",
     "text": [
      "['The lives of four drug dealers, one user and two prostitutes. (121 mins.)', ... ]\n"
     ]
    }
   ],
   "source": [
    "print(ill_manors['description'])"
   ]
  },
  {
   "cell_type": "code",
   "execution_count": 121,
   "metadata": {
    "collapsed": true
   },
   "outputs": [],
   "source": [
    "another_year = imdb_frame[imdb_frame['name'] == \"Another Year\"]"
   ]
  },
  {
   "cell_type": "code",
   "execution_count": 122,
   "metadata": {
    "collapsed": false
   },
   "outputs": [
    {
     "name": "stdout",
     "output_type": "stream",
     "text": [
      "['A look at four seasons in the lives of a happily married couple and their relationships with their family and friends. (129 mins.)', ... ]\n"
     ]
    }
   ],
   "source": [
    "print(another_year['description'])"
   ]
  },
  {
   "cell_type": "code",
   "execution_count": 123,
   "metadata": {
    "collapsed": true
   },
   "outputs": [],
   "source": [
    "boiling_point = imdb_frame[imdb_frame['name'] == \"Boiling Point\"]"
   ]
  },
  {
   "cell_type": "code",
   "execution_count": 124,
   "metadata": {
    "collapsed": false
   },
   "outputs": [
    {
     "name": "stdout",
     "output_type": "stream",
     "text": [
      "['A pair of sociopath killers take on the police and the mob in order to make one last big score. (92 mins.)', ... ]\n"
     ]
    }
   ],
   "source": [
    "print(boiling_point['description'])"
   ]
  },
  {
   "cell_type": "code",
   "execution_count": 125,
   "metadata": {
    "collapsed": true
   },
   "outputs": [],
   "source": [
    "new_years_eve = imdb_frame[imdb_frame['name'] == \"New Year's Eve\"]"
   ]
  },
  {
   "cell_type": "code",
   "execution_count": 126,
   "metadata": {
    "collapsed": false
   },
   "outputs": [
    {
     "name": "stdout",
     "output_type": "stream",
     "text": [
      "[\"The lives of several couples and singles in New York intertwine over the course of New Year's Eve. (113 mins.)\", ... ]\n"
     ]
    }
   ],
   "source": [
    "print(new_years_eve['description'])"
   ]
  },
  {
   "cell_type": "markdown",
   "metadata": {},
   "source": [
    "\"Ill Manors\" and \"Boiling Point\" seems reasonable fit Pulp Fiction, but \"Another Year\" and \"New Year's Eve\" seem a little bit off, let's look at the tf-idf weights in those movies:"
   ]
  },
  {
   "cell_type": "code",
   "execution_count": 117,
   "metadata": {
    "collapsed": false
   },
   "outputs": [
    {
     "name": "stdout",
     "output_type": "stream",
     "text": [
      "+--------------+----------------+\n",
      "|    tf_idf    |     count      |\n",
      "+--------------+----------------+\n",
      "|   dealers,   | 8.48673398393  |\n",
      "| prostitutes. | 8.48673398393  |\n",
      "|     user     | 8.48673398393  |\n",
      "|     (121     |  4.737229908   |\n",
      "|     drug     | 4.41770722969  |\n",
      "|     four     | 4.18266889073  |\n",
      "|    lives     | 3.84716237123  |\n",
      "|     one      | 2.93765789904  |\n",
      "|     two      | 2.64900353677  |\n",
      "|     and      | 0.758758441826 |\n",
      "+--------------+----------------+\n",
      "[13 rows x 2 columns]\n",
      "Note: Only the head of the SFrame is printed.\n",
      "You can use print_rows(num_rows=m, num_columns=n) to print more rows and columns.\n"
     ]
    }
   ],
   "source": [
    "print(ill_manors[['tf_idf']].stack('tf_idf', new_column_name=['tf_idf', 'count']).sort('count', ascending=False))"
   ]
  },
  {
   "cell_type": "code",
   "execution_count": 127,
   "metadata": {
    "collapsed": false
   },
   "outputs": [
    {
     "name": "stdout",
     "output_type": "stream",
     "text": [
      "+---------------+---------------+\n",
      "|     tf_idf    |     count     |\n",
      "+---------------+---------------+\n",
      "|    seasons    | 8.48673398393 |\n",
      "|    happily    | 6.98265658716 |\n",
      "| relationships | 5.96100533962 |\n",
      "|    friends.   | 5.77868378283 |\n",
      "|      (129     | 5.30868015358 |\n",
      "|      look     | 4.81043331202 |\n",
      "|    married    | 4.65809258744 |\n",
      "|     couple    | 4.33569407803 |\n",
      "|     their     | 4.28570709961 |\n",
      "|      four     | 4.18266889073 |\n",
      "+---------------+---------------+\n",
      "[20 rows x 2 columns]\n",
      "Note: Only the head of the SFrame is printed.\n",
      "You can use print_rows(num_rows=m, num_columns=n) to print more rows and columns.\n"
     ]
    }
   ],
   "source": [
    "print(another_year[['tf_idf']].stack('tf_idf', new_column_name=['tf_idf', 'count']).sort('count', ascending=False))"
   ]
  },
  {
   "cell_type": "code",
   "execution_count": 128,
   "metadata": {
    "collapsed": false
   },
   "outputs": [
    {
     "name": "stdout",
     "output_type": "stream",
     "text": [
      "+-----------+---------------+\n",
      "|   tf_idf  |     count     |\n",
      "+-----------+---------------+\n",
      "|   score.  | 8.08126887582 |\n",
      "| sociopath | 8.08126887582 |\n",
      "|  killers  | 6.40729244225 |\n",
      "|    mob    | 5.37321867472 |\n",
      "|    pair   | 5.17254797926 |\n",
      "|    big    | 4.84914782421 |\n",
      "|    last   | 4.40075767138 |\n",
      "|    make   | 4.18266889073 |\n",
      "|   police  | 4.08613096368 |\n",
      "|   order   | 3.98138413323 |\n",
      "+-----------+---------------+\n",
      "[21 rows x 2 columns]\n",
      "Note: Only the head of the SFrame is printed.\n",
      "You can use print_rows(num_rows=m, num_columns=n) to print more rows and columns.\n"
     ]
    }
   ],
   "source": [
    "print(boiling_point[['tf_idf']].stack('tf_idf', new_column_name=['tf_idf', 'count']).sort('count', ascending=False))"
   ]
  },
  {
   "cell_type": "code",
   "execution_count": 129,
   "metadata": {
    "collapsed": false
   },
   "outputs": [
    {
     "name": "stdout",
     "output_type": "stream",
     "text": [
      "+------------+---------------+\n",
      "|   tf_idf   |     count     |\n",
      "+------------+---------------+\n",
      "| intertwine | 7.79358680337 |\n",
      "|  singles   | 7.79358680337 |\n",
      "|   year's   | 6.78198589169 |\n",
      "|    eve.    | 6.47183096339 |\n",
      "|  couples   | 6.00182733414 |\n",
      "|   course   | 5.81258533451 |\n",
      "|  several   | 5.32973356278 |\n",
      "|    new     |  5.2348741416 |\n",
      "|    (113    | 4.29707924191 |\n",
      "|    york    | 3.88657633977 |\n",
      "+------------+---------------+\n",
      "[17 rows x 2 columns]\n",
      "Note: Only the head of the SFrame is printed.\n",
      "You can use print_rows(num_rows=m, num_columns=n) to print more rows and columns.\n"
     ]
    }
   ],
   "source": [
    "print(new_years_eve[['tf_idf']].stack('tf_idf', new_column_name=['tf_idf', 'count']).sort('count', ascending=False))"
   ]
  },
  {
   "cell_type": "markdown",
   "metadata": {},
   "source": [
    "### More nearest neighbors"
   ]
  },
  {
   "cell_type": "markdown",
   "metadata": {},
   "source": [
    "Let's look at some other suggestions:"
   ]
  },
  {
   "cell_type": "code",
   "execution_count": 137,
   "metadata": {
    "collapsed": true
   },
   "outputs": [],
   "source": [
    "future = imdb_frame[imdb_frame['name'] == \"Back to the Future\"]"
   ]
  },
  {
   "cell_type": "code",
   "execution_count": 141,
   "metadata": {
    "collapsed": false
   },
   "outputs": [
    {
     "data": {
      "text/html": [
       "<pre>Starting pairwise querying.</pre>"
      ],
      "text/plain": [
       "Starting pairwise querying."
      ]
     },
     "metadata": {},
     "output_type": "display_data"
    },
    {
     "data": {
      "text/html": [
       "<pre>+--------------+---------+-------------+--------------+</pre>"
      ],
      "text/plain": [
       "+--------------+---------+-------------+--------------+"
      ]
     },
     "metadata": {},
     "output_type": "display_data"
    },
    {
     "data": {
      "text/html": [
       "<pre>| Query points | # Pairs | % Complete. | Elapsed Time |</pre>"
      ],
      "text/plain": [
       "| Query points | # Pairs | % Complete. | Elapsed Time |"
      ]
     },
     "metadata": {},
     "output_type": "display_data"
    },
    {
     "data": {
      "text/html": [
       "<pre>+--------------+---------+-------------+--------------+</pre>"
      ],
      "text/plain": [
       "+--------------+---------+-------------+--------------+"
      ]
     },
     "metadata": {},
     "output_type": "display_data"
    },
    {
     "data": {
      "text/html": [
       "<pre>| 0            | 1       | 0.0103093   | 5.572ms      |</pre>"
      ],
      "text/plain": [
       "| 0            | 1       | 0.0103093   | 5.572ms      |"
      ]
     },
     "metadata": {},
     "output_type": "display_data"
    },
    {
     "data": {
      "text/html": [
       "<pre>| Done         |         | 100         | 21.63ms      |</pre>"
      ],
      "text/plain": [
       "| Done         |         | 100         | 21.63ms      |"
      ]
     },
     "metadata": {},
     "output_type": "display_data"
    },
    {
     "data": {
      "text/html": [
       "<pre>+--------------+---------+-------------+--------------+</pre>"
      ],
      "text/plain": [
       "+--------------+---------+-------------+--------------+"
      ]
     },
     "metadata": {},
     "output_type": "display_data"
    },
    {
     "name": "stdout",
     "output_type": "stream",
     "text": [
      "+-------------+------------------------+----------------+------+\n",
      "| query_label |    reference_label     |    distance    | rank |\n",
      "+-------------+------------------------+----------------+------+\n",
      "|      0      |   Back to the Future   |      0.0       |  1   |\n",
      "|      0      |  Liberty Stands Still  | 0.795454545455 |  2   |\n",
      "|      0      | Bang Bang You're Dead  | 0.809523809524 |  3   |\n",
      "|      0      | Cornbread, Earl and Me | 0.810810810811 |  4   |\n",
      "|      0      |    Mad About Mambo     | 0.813953488372 |  5   |\n",
      "+-------------+------------------------+----------------+------+\n",
      "[5 rows x 4 columns]\n",
      "\n"
     ]
    }
   ],
   "source": [
    "print(tf_idf_model.query(future))"
   ]
  },
  {
   "cell_type": "code",
   "execution_count": 139,
   "metadata": {
    "collapsed": true
   },
   "outputs": [],
   "source": [
    "harry_potter = imdb_frame[imdb_frame['name'] == \"Harry Potter and the Sorcerer's Stone\"]"
   ]
  },
  {
   "cell_type": "code",
   "execution_count": 142,
   "metadata": {
    "collapsed": false
   },
   "outputs": [
    {
     "data": {
      "text/html": [
       "<pre>Starting pairwise querying.</pre>"
      ],
      "text/plain": [
       "Starting pairwise querying."
      ]
     },
     "metadata": {},
     "output_type": "display_data"
    },
    {
     "data": {
      "text/html": [
       "<pre>+--------------+---------+-------------+--------------+</pre>"
      ],
      "text/plain": [
       "+--------------+---------+-------------+--------------+"
      ]
     },
     "metadata": {},
     "output_type": "display_data"
    },
    {
     "data": {
      "text/html": [
       "<pre>| Query points | # Pairs | % Complete. | Elapsed Time |</pre>"
      ],
      "text/plain": [
       "| Query points | # Pairs | % Complete. | Elapsed Time |"
      ]
     },
     "metadata": {},
     "output_type": "display_data"
    },
    {
     "data": {
      "text/html": [
       "<pre>+--------------+---------+-------------+--------------+</pre>"
      ],
      "text/plain": [
       "+--------------+---------+-------------+--------------+"
      ]
     },
     "metadata": {},
     "output_type": "display_data"
    },
    {
     "data": {
      "text/html": [
       "<pre>| 0            | 1       | 0.0103093   | 6.862ms      |</pre>"
      ],
      "text/plain": [
       "| 0            | 1       | 0.0103093   | 6.862ms      |"
      ]
     },
     "metadata": {},
     "output_type": "display_data"
    },
    {
     "data": {
      "text/html": [
       "<pre>| Done         |         | 100         | 27.826ms     |</pre>"
      ],
      "text/plain": [
       "| Done         |         | 100         | 27.826ms     |"
      ]
     },
     "metadata": {},
     "output_type": "display_data"
    },
    {
     "data": {
      "text/html": [
       "<pre>+--------------+---------+-------------+--------------+</pre>"
      ],
      "text/plain": [
       "+--------------+---------+-------------+--------------+"
      ]
     },
     "metadata": {},
     "output_type": "display_data"
    },
    {
     "name": "stdout",
     "output_type": "stream",
     "text": [
      "+-------------+-------------------------------+----------------+------+\n",
      "| query_label |        reference_label        |    distance    | rank |\n",
      "+-------------+-------------------------------+----------------+------+\n",
      "|      0      | Harry Potter and the Sorce... |      0.0       |  1   |\n",
      "|      0      |          The Good Son         |     0.725      |  2   |\n",
      "|      0      |             North             |      0.75      |  3   |\n",
      "|      0      |         Cloak & Dagger        | 0.763157894737 |  4   |\n",
      "|      0      |      The Christmas Shoes      |     0.775      |  5   |\n",
      "+-------------+-------------------------------+----------------+------+\n",
      "[5 rows x 4 columns]\n",
      "\n"
     ]
    }
   ],
   "source": [
    "print(tf_idf_model.query(harry_potter))"
   ]
  },
  {
   "cell_type": "markdown",
   "metadata": {},
   "source": [
    "### Possible problems with the tf-idf model"
   ]
  },
  {
   "cell_type": "markdown",
   "metadata": {},
   "source": [
    "We see that some of the suggestions could be better. One of the reasons for the lack of accuracy is that the descriptions are too short. Lack of the descriptive words makes it more difficult to weight a movie:"
   ]
  },
  {
   "cell_type": "code",
   "execution_count": 143,
   "metadata": {
    "collapsed": false
   },
   "outputs": [
    {
     "data": {
      "text/plain": [
       "'A behind-the-scenes look at the life-and-death struggles of modern-day gladiators and those who lead them. (162 mins.)'"
      ]
     },
     "execution_count": 143,
     "metadata": {},
     "output_type": "execute_result"
    }
   ],
   "source": [
    "imdb_frame[1099]['description']"
   ]
  },
  {
   "cell_type": "code",
   "execution_count": 144,
   "metadata": {
    "collapsed": false
   },
   "outputs": [
    {
     "data": {
      "text/plain": [
       "'A woman finds romance when she takes a job at an aircraft plant to help make ends meet after her husband goes off to war. (100 mins.)'"
      ]
     },
     "execution_count": 144,
     "metadata": {},
     "output_type": "execute_result"
    }
   ],
   "source": [
    "imdb_frame[5690]['description']"
   ]
  },
  {
   "cell_type": "markdown",
   "metadata": {},
   "source": [
    "So, evidently, if we obtain better summaries of the movies, the tf-idf model would assign more weights to important words, making the suggestions more accurate."
   ]
  }
 ],
 "metadata": {
  "kernelspec": {
   "display_name": "Python 2",
   "language": "python",
   "name": "python2"
  },
  "language_info": {
   "codemirror_mode": {
    "name": "ipython",
    "version": 2
   },
   "file_extension": ".py",
   "mimetype": "text/x-python",
   "name": "python",
   "nbconvert_exporter": "python",
   "pygments_lexer": "ipython2",
   "version": "2.7.11"
  }
 },
 "nbformat": 4,
 "nbformat_minor": 0
}
